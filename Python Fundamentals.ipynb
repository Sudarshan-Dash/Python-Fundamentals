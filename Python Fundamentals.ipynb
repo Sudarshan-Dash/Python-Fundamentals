{
 "cells": [
  {
   "cell_type": "code",
   "execution_count": 1,
   "id": "19c42c7b",
   "metadata": {},
   "outputs": [
    {
     "data": {
      "text/plain": [
       "2"
      ]
     },
     "execution_count": 1,
     "metadata": {},
     "output_type": "execute_result"
    }
   ],
   "source": [
    "1+1"
   ]
  },
  {
   "cell_type": "code",
   "execution_count": 2,
   "id": "aa6c138a",
   "metadata": {},
   "outputs": [
    {
     "name": "stdout",
     "output_type": "stream",
     "text": [
      "sudarshan dash\n"
     ]
    }
   ],
   "source": [
    "print(\"sudarshan dash\")"
   ]
  },
  {
   "cell_type": "code",
   "execution_count": 3,
   "id": "8ed98509",
   "metadata": {},
   "outputs": [],
   "source": [
    "p=200\n",
    "r=65\n",
    "t=3"
   ]
  },
  {
   "cell_type": "code",
   "execution_count": 4,
   "id": "07ae45d9",
   "metadata": {},
   "outputs": [],
   "source": [
    "si=(p*r*t)/100"
   ]
  },
  {
   "cell_type": "code",
   "execution_count": 5,
   "id": "e84feab1",
   "metadata": {},
   "outputs": [
    {
     "data": {
      "text/plain": [
       "390.0"
      ]
     },
     "execution_count": 5,
     "metadata": {},
     "output_type": "execute_result"
    }
   ],
   "source": [
    "si"
   ]
  },
  {
   "cell_type": "code",
   "execution_count": 6,
   "id": "21b6fe08",
   "metadata": {},
   "outputs": [
    {
     "name": "stdout",
     "output_type": "stream",
     "text": [
      "my simple interest is  390.0\n"
     ]
    }
   ],
   "source": [
    "print(\"my simple interest is \",si)"
   ]
  },
  {
   "cell_type": "markdown",
   "id": "c0b25054",
   "metadata": {},
   "source": [
    "Take the name of the user as input .And say hello to them"
   ]
  },
  {
   "cell_type": "code",
   "execution_count": 7,
   "id": "c0da8b57",
   "metadata": {},
   "outputs": [
    {
     "name": "stdout",
     "output_type": "stream",
     "text": [
      "Sudarshan the 'G'\n"
     ]
    }
   ],
   "source": [
    "name = input()"
   ]
  },
  {
   "cell_type": "code",
   "execution_count": 8,
   "id": "0106d35a",
   "metadata": {},
   "outputs": [
    {
     "name": "stdout",
     "output_type": "stream",
     "text": [
      "Sudarshan the 'G'\n"
     ]
    }
   ],
   "source": [
    "print(name)"
   ]
  },
  {
   "cell_type": "code",
   "execution_count": 9,
   "id": "7830a3cb",
   "metadata": {},
   "outputs": [
    {
     "name": "stdout",
     "output_type": "stream",
     "text": [
      "hello Sudarshan the 'G'\n"
     ]
    }
   ],
   "source": [
    "print(\"hello\",name)"
   ]
  },
  {
   "cell_type": "code",
   "execution_count": 10,
   "id": "feafb36b",
   "metadata": {},
   "outputs": [
    {
     "name": "stdout",
     "output_type": "stream",
     "text": [
      "Ankit\n",
      "Rohit\n",
      "Drake\n"
     ]
    }
   ],
   "source": [
    "name1=input()\n",
    "name2=input()\n",
    "name3=input()"
   ]
  },
  {
   "cell_type": "code",
   "execution_count": 11,
   "id": "916a50b4",
   "metadata": {},
   "outputs": [
    {
     "name": "stdout",
     "output_type": "stream",
     "text": [
      "Ankit Rohit Drake\n"
     ]
    }
   ],
   "source": [
    "print(name1,name2,name3)"
   ]
  },
  {
   "cell_type": "code",
   "execution_count": 12,
   "id": "a37f0c99",
   "metadata": {},
   "outputs": [
    {
     "name": "stdout",
     "output_type": "stream",
     "text": [
      "clark kent's awesome\n"
     ]
    }
   ],
   "source": [
    "print('clark kent\\'s awesome')\n",
    "\n",
    "# when the compiler see this ' the escapes character it ignores the next character\n",
    "# user dont want to behave as it is a statement ending thing\n",
    "      \n",
    "      # BACKSLASH \\ is known as the escape character"
   ]
  },
  {
   "cell_type": "markdown",
   "id": "1a329bec",
   "metadata": {},
   "source": [
    "### Comments"
   ]
  },
  {
   "cell_type": "markdown",
   "id": "38508819",
   "metadata": {},
   "source": [
    "Comments are the statements that are written inside the code but they are ignored by the interpreter\n",
    "These are written to make code understandable and readable\n"
   ]
  },
  {
   "cell_type": "code",
   "execution_count": 13,
   "id": "66778605",
   "metadata": {},
   "outputs": [
    {
     "name": "stdout",
     "output_type": "stream",
     "text": [
      "Good evening\n",
      "Hello everyone\n"
     ]
    }
   ],
   "source": [
    "print('Good evening')\n",
    "\n",
    "# This is a simple good evening message\n",
    "\n",
    "print('Hello everyone')"
   ]
  },
  {
   "cell_type": "markdown",
   "id": "d3042ef3",
   "metadata": {},
   "source": [
    "## Data Types\n",
    "\n",
    "\n",
    "### Integers-int \n",
    "### Floating point numbers-float\n",
    "### Strings - str\n",
    "### Boolean type - bool\n",
    "### None type"
   ]
  },
  {
   "cell_type": "code",
   "execution_count": 14,
   "id": "711fcbd3",
   "metadata": {},
   "outputs": [],
   "source": [
    "a=100"
   ]
  },
  {
   "cell_type": "code",
   "execution_count": 15,
   "id": "62bbf1b5",
   "metadata": {},
   "outputs": [
    {
     "data": {
      "text/plain": [
       "int"
      ]
     },
     "execution_count": 15,
     "metadata": {},
     "output_type": "execute_result"
    }
   ],
   "source": [
    "type(a)"
   ]
  },
  {
   "cell_type": "code",
   "execution_count": 16,
   "id": "64b599dd",
   "metadata": {},
   "outputs": [
    {
     "name": "stdout",
     "output_type": "stream",
     "text": [
      "<class 'int'>\n"
     ]
    }
   ],
   "source": [
    "print(type(a))"
   ]
  },
  {
   "cell_type": "code",
   "execution_count": 17,
   "id": "fdbdc92d",
   "metadata": {},
   "outputs": [],
   "source": [
    "c=56.76"
   ]
  },
  {
   "cell_type": "code",
   "execution_count": 18,
   "id": "e4aec600",
   "metadata": {},
   "outputs": [
    {
     "name": "stdout",
     "output_type": "stream",
     "text": [
      "<class 'float'>\n"
     ]
    }
   ],
   "source": [
    "print(type(c))"
   ]
  },
  {
   "cell_type": "code",
   "execution_count": 19,
   "id": "e9997558",
   "metadata": {},
   "outputs": [],
   "source": [
    "h='dj'"
   ]
  },
  {
   "cell_type": "code",
   "execution_count": 20,
   "id": "546851b9",
   "metadata": {},
   "outputs": [
    {
     "name": "stdout",
     "output_type": "stream",
     "text": [
      "<class 'str'>\n"
     ]
    }
   ],
   "source": [
    "print(type(h))"
   ]
  },
  {
   "cell_type": "code",
   "execution_count": 21,
   "id": "4a9e0526",
   "metadata": {},
   "outputs": [],
   "source": [
    "g=True"
   ]
  },
  {
   "cell_type": "code",
   "execution_count": 22,
   "id": "7fe71f66",
   "metadata": {},
   "outputs": [
    {
     "name": "stdout",
     "output_type": "stream",
     "text": [
      "<class 'bool'>\n"
     ]
    }
   ],
   "source": [
    "print(type(g))"
   ]
  },
  {
   "cell_type": "markdown",
   "id": "ed3d62f6",
   "metadata": {},
   "source": [
    "## Typecasting "
   ]
  },
  {
   "cell_type": "code",
   "execution_count": 23,
   "id": "dff9528c",
   "metadata": {},
   "outputs": [],
   "source": [
    "c=76.79"
   ]
  },
  {
   "cell_type": "code",
   "execution_count": 29,
   "id": "37ee7bbf",
   "metadata": {},
   "outputs": [
    {
     "name": "stdout",
     "output_type": "stream",
     "text": [
      "<class 'float'>\n"
     ]
    }
   ],
   "source": [
    "print(type(c))"
   ]
  },
  {
   "cell_type": "code",
   "execution_count": 26,
   "id": "711bfaeb",
   "metadata": {},
   "outputs": [],
   "source": [
    "i=int(c)"
   ]
  },
  {
   "cell_type": "code",
   "execution_count": 27,
   "id": "93baef60",
   "metadata": {},
   "outputs": [
    {
     "name": "stdout",
     "output_type": "stream",
     "text": [
      "76\n"
     ]
    }
   ],
   "source": [
    "print(i)"
   ]
  },
  {
   "cell_type": "code",
   "execution_count": 28,
   "id": "23bb8c28",
   "metadata": {},
   "outputs": [
    {
     "name": "stdout",
     "output_type": "stream",
     "text": [
      "<class 'int'>\n"
     ]
    }
   ],
   "source": [
    "print(type(i))"
   ]
  },
  {
   "cell_type": "markdown",
   "id": "a5a1cf88",
   "metadata": {},
   "source": [
    "String to Integers type"
   ]
  },
  {
   "cell_type": "code",
   "execution_count": 30,
   "id": "da6f809a",
   "metadata": {},
   "outputs": [],
   "source": [
    "s = '567'"
   ]
  },
  {
   "cell_type": "code",
   "execution_count": 31,
   "id": "2cb22194",
   "metadata": {},
   "outputs": [],
   "source": [
    "i=int(s)"
   ]
  },
  {
   "cell_type": "code",
   "execution_count": 33,
   "id": "ad93e083",
   "metadata": {},
   "outputs": [
    {
     "name": "stdout",
     "output_type": "stream",
     "text": [
      "<class 'int'>\n"
     ]
    }
   ],
   "source": [
    "print(type(i))"
   ]
  },
  {
   "cell_type": "code",
   "execution_count": 34,
   "id": "4e53d6f2",
   "metadata": {},
   "outputs": [],
   "source": [
    "x='sid'"
   ]
  },
  {
   "cell_type": "markdown",
   "id": "83798a56",
   "metadata": {},
   "source": [
    "Converitng int to string"
   ]
  },
  {
   "cell_type": "code",
   "execution_count": 36,
   "id": "e89dbb6e",
   "metadata": {},
   "outputs": [
    {
     "name": "stdout",
     "output_type": "stream",
     "text": [
      "76858\n"
     ]
    }
   ],
   "source": [
    "f = 76858\n",
    "j =str(f)\n",
    "print(j)"
   ]
  },
  {
   "cell_type": "code",
   "execution_count": 37,
   "id": "9b3927fb",
   "metadata": {},
   "outputs": [
    {
     "name": "stdout",
     "output_type": "stream",
     "text": [
      "<class 'str'>\n"
     ]
    }
   ],
   "source": [
    "print(type(j))"
   ]
  },
  {
   "cell_type": "code",
   "execution_count": 46,
   "id": "bbc6a9b5",
   "metadata": {},
   "outputs": [],
   "source": [
    "a =5+2 #additon operator\n",
    "b =5-2 # subtraction operator\n",
    "c =5*2 #muliply operartor\n",
    "d =5/2 #divide operartor\n",
    "e =5**2 #power operartor"
   ]
  },
  {
   "cell_type": "code",
   "execution_count": 47,
   "id": "cd7311a5",
   "metadata": {},
   "outputs": [
    {
     "name": "stdout",
     "output_type": "stream",
     "text": [
      "7 3 10 2.5 25\n"
     ]
    }
   ],
   "source": [
    "print(a,b,c,d,e)"
   ]
  },
  {
   "cell_type": "code",
   "execution_count": 42,
   "id": "becd5e64",
   "metadata": {},
   "outputs": [
    {
     "name": "stdout",
     "output_type": "stream",
     "text": [
      "2\n"
     ]
    }
   ],
   "source": [
    "x=5//2\n",
    "print(x) # it will only give integer part"
   ]
  },
  {
   "cell_type": "code",
   "execution_count": 44,
   "id": "965ce318",
   "metadata": {},
   "outputs": [],
   "source": [
    "t= 5%2 #modulo operator (it give the remainder)"
   ]
  },
  {
   "cell_type": "code",
   "execution_count": 45,
   "id": "78a4931f",
   "metadata": {},
   "outputs": [
    {
     "data": {
      "text/plain": [
       "1"
      ]
     },
     "execution_count": 45,
     "metadata": {},
     "output_type": "execute_result"
    }
   ],
   "source": [
    "t"
   ]
  },
  {
   "cell_type": "code",
   "execution_count": 48,
   "id": "cc9355cd",
   "metadata": {},
   "outputs": [
    {
     "data": {
      "text/plain": [
       "9.0"
      ]
     },
     "execution_count": 48,
     "metadata": {},
     "output_type": "execute_result"
    }
   ],
   "source": [
    "c=81**(1/2)  # sqaure rooting \n",
    "c"
   ]
  },
  {
   "cell_type": "code",
   "execution_count": 49,
   "id": "ea6532e9",
   "metadata": {},
   "outputs": [
    {
     "data": {
      "text/plain": [
       "(6, 9)"
      ]
     },
     "execution_count": 49,
     "metadata": {},
     "output_type": "execute_result"
    }
   ],
   "source": [
    "a, b = 6, 9 # Typical unpacking\n",
    "a,b"
   ]
  },
  {
   "cell_type": "markdown",
   "id": "22614a55",
   "metadata": {},
   "source": [
    "### Python Fundamentals 2"
   ]
  },
  {
   "cell_type": "code",
   "execution_count": 51,
   "id": "f1b32181",
   "metadata": {},
   "outputs": [
    {
     "name": "stdout",
     "output_type": "stream",
     "text": [
      "HELLO+WORLD+Hi+ there||abracadabra||"
     ]
    }
   ],
   "source": [
    "# By default the value of sep=' ' \n",
    "# By default the value of end='\\n'(\\n is the new line character)\n",
    "print(\"HELLO\", \"WORLD\", \"Hi\", \" there\", sep='+', end='||abracadabra||')\n",
    "print(\"Python is amazing\")"
   ]
  },
  {
   "cell_type": "code",
   "execution_count": 52,
   "id": "32eca775",
   "metadata": {},
   "outputs": [
    {
     "name": "stdout",
     "output_type": "stream",
     "text": [
      "Python is amazing\n"
     ]
    }
   ],
   "source": [
    "print(\"Python is amazing\")"
   ]
  },
  {
   "cell_type": "code",
   "execution_count": 53,
   "id": "ed489408",
   "metadata": {},
   "outputs": [
    {
     "name": "stdout",
     "output_type": "stream",
     "text": [
      "HELLO+WORLD+Hi+ there||abracadabra||Python is amazing\n"
     ]
    }
   ],
   "source": [
    "# By default the value of sep=' ' \n",
    "# By default the value of end='\\n'\n",
    "print(\"HELLO\", \"WORLD\", \"Hi\", \" there\", sep='+', end='||abracadabra||')\n",
    "print(\"Python is amazing\")"
   ]
  },
  {
   "cell_type": "code",
   "execution_count": 58,
   "id": "9930f538",
   "metadata": {},
   "outputs": [
    {
     "name": "stdout",
     "output_type": "stream",
     "text": [
      "HELLO\n",
      "WORLD\n",
      "Hi\n",
      "there\n",
      "@@@@"
     ]
    }
   ],
   "source": [
    "print(\"HELLO\", \"WORLD\", \"Hi\", \"there\", sep='\\n', end='\\n@@@@')"
   ]
  },
  {
   "cell_type": "code",
   "execution_count": 60,
   "id": "a9a40354",
   "metadata": {},
   "outputs": [
    {
     "name": "stdout",
     "output_type": "stream",
     "text": [
      "hello world hlw world <class 'str'> <class 'str'>\n"
     ]
    }
   ],
   "source": [
    "s1='hello world'\n",
    "s2='hlw world'\n",
    "print(s1, s2,type(s1),type(s2))"
   ]
  },
  {
   "cell_type": "code",
   "execution_count": 61,
   "id": "8ee7b34b",
   "metadata": {},
   "outputs": [],
   "source": [
    "s3='''\n",
    "In this course, we will introduce participants to the different types of scientific articles and provide an outline of how to write an original research article describing their original scientific research.\n",
    "\n",
    "To enable health professionals to write scientific research articles that can be published and to equip them with skills to cite and manage references/ bibliography while writing using a reference management tool such as Mendeley.\n",
    "\n",
    "\n",
    "'''"
   ]
  },
  {
   "cell_type": "code",
   "execution_count": 62,
   "id": "02fa498b",
   "metadata": {},
   "outputs": [
    {
     "data": {
      "text/plain": [
       "'\\nIn this course, we will introduce participants to the different types of scientific articles and provide an outline of how to write an original research article describing their original scientific research.\\n\\nTo enable health professionals to write scientific research articles that can be published and to equip them with skills to cite and manage references/ bibliography while writing using a reference management tool such as Mendeley.\\n\\n\\n'"
      ]
     },
     "execution_count": 62,
     "metadata": {},
     "output_type": "execute_result"
    }
   ],
   "source": [
    "s3"
   ]
  },
  {
   "cell_type": "code",
   "execution_count": 63,
   "id": "5270427d",
   "metadata": {},
   "outputs": [
    {
     "name": "stdout",
     "output_type": "stream",
     "text": [
      "\n",
      "In this course, we will introduce participants to the different types of scientific articles and provide an outline of how to write an original research article describing their original scientific research.\n",
      "\n",
      "To enable health professionals to write scientific research articles that can be published and to equip them with skills to cite and manage references/ bibliography while writing using a reference management tool such as Mendeley.\n",
      "\n",
      "\n",
      "\n"
     ]
    }
   ],
   "source": [
    "print(s3)"
   ]
  },
  {
   "cell_type": "markdown",
   "id": "224ed34c",
   "metadata": {},
   "source": [
    "## Multiline Comment"
   ]
  },
  {
   "cell_type": "code",
   "execution_count": 64,
   "id": "87f475b9",
   "metadata": {},
   "outputs": [
    {
     "data": {
      "text/plain": [
       "'\\nThis is just a random comment \\nIt could be anything \\nlike x, y , z\\n'"
      ]
     },
     "execution_count": 64,
     "metadata": {},
     "output_type": "execute_result"
    }
   ],
   "source": [
    "'''\n",
    "This is just a random comment \n",
    "It could be anything \n",
    "like x, y , z\n",
    "'''"
   ]
  },
  {
   "cell_type": "code",
   "execution_count": 65,
   "id": "2740ec0c",
   "metadata": {},
   "outputs": [],
   "source": [
    "# This is sigle line comment "
   ]
  },
  {
   "cell_type": "markdown",
   "id": "57a1a90e",
   "metadata": {},
   "source": [
    "## Branching"
   ]
  },
  {
   "cell_type": "code",
   "execution_count": 3,
   "id": "1f18ca5c",
   "metadata": {},
   "outputs": [],
   "source": [
    "age=6\n",
    "    "
   ]
  },
  {
   "cell_type": "code",
   "execution_count": 4,
   "id": "d45e529d",
   "metadata": {},
   "outputs": [
    {
     "name": "stdout",
     "output_type": "stream",
     "text": [
      "The person is not eligible to vote\n"
     ]
    }
   ],
   "source": [
    "\n",
    "if age>=18:\n",
    "  print(\"The person is eligible to vote\")\n",
    "else:\n",
    "  print('The person is not eligible to vote')\n",
    "\n",
    "    "
   ]
  },
  {
   "cell_type": "code",
   "execution_count": 9,
   "id": "66ddc6c6",
   "metadata": {},
   "outputs": [],
   "source": [
    "age=11"
   ]
  },
  {
   "cell_type": "code",
   "execution_count": 10,
   "id": "6a0802be",
   "metadata": {},
   "outputs": [
    {
     "name": "stdout",
     "output_type": "stream",
     "text": [
      "Above the age of 10 but still not eligible\n"
     ]
    }
   ],
   "source": [
    "if age>=18:\n",
    "    print(\"Eligible for voting\")\n",
    "elif age>=10:                           # In c++ and in Java elif called as else if but in python its called ELif\n",
    "    print(\"Above the age of 10 but still not eligible\")\n",
    "else:\n",
    "    print(\"Not eligible\")"
   ]
  },
  {
   "cell_type": "markdown",
   "id": "e9717bfb",
   "metadata": {},
   "source": [
    "### AND OR"
   ]
  },
  {
   "cell_type": "code",
   "execution_count": 13,
   "id": "6b2e99c9",
   "metadata": {},
   "outputs": [
    {
     "name": "stdout",
     "output_type": "stream",
     "text": [
      "sudarshan dash\n"
     ]
    }
   ],
   "source": [
    "name=\"sudarshan\"\n",
    "surname=\"dash\"\n",
    "print(name,surname)"
   ]
  },
  {
   "cell_type": "code",
   "execution_count": 15,
   "id": "3cc3284f",
   "metadata": {},
   "outputs": [
    {
     "name": "stdout",
     "output_type": "stream",
     "text": [
      "Allow\n"
     ]
    }
   ],
   "source": [
    "batch=\"python\"\n",
    "org=\"scaler\"\n",
    "\n",
    "\n",
    "if org==\"scaler\" and batch==\"python\":\n",
    "    print(\"Allow\")\n",
    "else:\n",
    "    print(\"Block\")"
   ]
  },
  {
   "cell_type": "code",
   "execution_count": 20,
   "id": "ced0bf95",
   "metadata": {},
   "outputs": [
    {
     "name": "stdout",
     "output_type": "stream",
     "text": [
      "Unacademy\n"
     ]
    }
   ],
   "source": [
    "org=input()    # User Input"
   ]
  },
  {
   "cell_type": "code",
   "execution_count": 21,
   "id": "3714a14f",
   "metadata": {},
   "outputs": [
    {
     "name": "stdout",
     "output_type": "stream",
     "text": [
      "Block\n"
     ]
    }
   ],
   "source": [
    "#org=\"scaler\"\n",
    "#org=\"Unacademy\"\n",
    "\n",
    "if org==\"scaler\" or org==\"Interviewbit\":\n",
    "    print(\"Allow\")\n",
    "else:\n",
    "    print(\"Block\")\n"
   ]
  },
  {
   "cell_type": "markdown",
   "id": "eaff7a26",
   "metadata": {},
   "source": [
    "# Loops\n",
    "\n",
    "## while loops"
   ]
  },
  {
   "cell_type": "code",
   "execution_count": 22,
   "id": "f2242466",
   "metadata": {},
   "outputs": [],
   "source": [
    "# print the counting from 1 to 10"
   ]
  },
  {
   "cell_type": "code",
   "execution_count": 23,
   "id": "a752ec53",
   "metadata": {},
   "outputs": [
    {
     "name": "stdout",
     "output_type": "stream",
     "text": [
      "1\n",
      "2\n",
      "3\n",
      "4\n",
      "5\n",
      "6\n",
      "7\n",
      "8\n",
      "9\n",
      "10\n"
     ]
    }
   ],
   "source": [
    "counter=1\n",
    "\n",
    "while counter <=10:\n",
    "    print(counter)\n",
    "    counter=counter+1"
   ]
  },
  {
   "cell_type": "code",
   "execution_count": 24,
   "id": "708c1d06",
   "metadata": {},
   "outputs": [
    {
     "name": "stdout",
     "output_type": "stream",
     "text": [
      "1 2 3 4 5 6 7 8 9 10 "
     ]
    }
   ],
   "source": [
    "counter=1\n",
    "\n",
    "while counter <=10:\n",
    "    print(counter ,end=' ')\n",
    "    counter=counter+1"
   ]
  },
  {
   "cell_type": "code",
   "execution_count": 26,
   "id": "222775d8",
   "metadata": {},
   "outputs": [
    {
     "data": {
      "text/plain": [
       "7"
      ]
     },
     "execution_count": 26,
     "metadata": {},
     "output_type": "execute_result"
    }
   ],
   "source": [
    "a=2\n",
    "a=a+5\n",
    "a"
   ]
  },
  {
   "cell_type": "code",
   "execution_count": 27,
   "id": "afcfaa9c",
   "metadata": {},
   "outputs": [
    {
     "data": {
      "text/plain": [
       "7"
      ]
     },
     "execution_count": 27,
     "metadata": {},
     "output_type": "execute_result"
    }
   ],
   "source": [
    "a=2\n",
    "# shorthand\n",
    "a+=5\n",
    "a"
   ]
  },
  {
   "cell_type": "code",
   "execution_count": 28,
   "id": "d9e2da5d",
   "metadata": {},
   "outputs": [
    {
     "data": {
      "text/plain": [
       "'\\nQuestion: Given an integer, print the correspondig stair pattern for it.\\n\\ninput: 4\\n\\noutput:\\n*\\n**\\n***\\n****\\n'"
      ]
     },
     "execution_count": 28,
     "metadata": {},
     "output_type": "execute_result"
    }
   ],
   "source": [
    "'''\n",
    "Question: Given an integer, print the correspondig stair pattern for it.\n",
    "\n",
    "input: 4\n",
    "\n",
    "output:\n",
    "*\n",
    "**\n",
    "***\n",
    "****\n",
    "'''"
   ]
  },
  {
   "cell_type": "code",
   "execution_count": 32,
   "id": "d8288ff0",
   "metadata": {},
   "outputs": [
    {
     "name": "stdout",
     "output_type": "stream",
     "text": [
      "4\n"
     ]
    }
   ],
   "source": [
    "n= input() # it will always return string "
   ]
  },
  {
   "cell_type": "code",
   "execution_count": 33,
   "id": "674cd249",
   "metadata": {},
   "outputs": [
    {
     "name": "stdout",
     "output_type": "stream",
     "text": [
      "<class 'str'>\n"
     ]
    }
   ],
   "source": [
    "print(type(n))  \n",
    "# that is why first we are gonna it to integers"
   ]
  },
  {
   "cell_type": "code",
   "execution_count": 34,
   "id": "e03f86fd",
   "metadata": {},
   "outputs": [
    {
     "name": "stdout",
     "output_type": "stream",
     "text": [
      "4\n"
     ]
    }
   ],
   "source": [
    "n=int(input())"
   ]
  },
  {
   "cell_type": "code",
   "execution_count": 35,
   "id": "85c16e3f",
   "metadata": {},
   "outputs": [
    {
     "name": "stdout",
     "output_type": "stream",
     "text": [
      "<class 'int'>\n"
     ]
    }
   ],
   "source": [
    "print(type(n))"
   ]
  },
  {
   "cell_type": "code",
   "execution_count": 41,
   "id": "beea1d17",
   "metadata": {},
   "outputs": [
    {
     "name": "stdout",
     "output_type": "stream",
     "text": [
      "* \n",
      "* * \n",
      "* * * \n",
      "* * * * \n"
     ]
    }
   ],
   "source": [
    "i =1\n",
    "while i<=n: # print i stars for i th rows\n",
    "    print(\"* \"*i)\n",
    "    i+=1     #i=i+1"
   ]
  },
  {
   "cell_type": "code",
   "execution_count": 40,
   "id": "4b184069",
   "metadata": {},
   "outputs": [
    {
     "name": "stdout",
     "output_type": "stream",
     "text": [
      "sidsidsidsidsid\n"
     ]
    }
   ],
   "source": [
    "print(\"sid\"*5)"
   ]
  },
  {
   "cell_type": "markdown",
   "id": "a9397496",
   "metadata": {},
   "source": [
    "## Range method "
   ]
  },
  {
   "cell_type": "code",
   "execution_count": 42,
   "id": "4b081ed2",
   "metadata": {},
   "outputs": [
    {
     "data": {
      "text/plain": [
       "range(0, 11)"
      ]
     },
     "execution_count": 42,
     "metadata": {},
     "output_type": "execute_result"
    }
   ],
   "source": [
    "range(11)"
   ]
  },
  {
   "cell_type": "code",
   "execution_count": 43,
   "id": "a1eaf6bd",
   "metadata": {},
   "outputs": [
    {
     "data": {
      "text/plain": [
       "[0, 1, 2, 3, 4, 5, 6, 7, 8, 9, 10]"
      ]
     },
     "execution_count": 43,
     "metadata": {},
     "output_type": "execute_result"
    }
   ],
   "source": [
    "list(range(11))"
   ]
  },
  {
   "cell_type": "code",
   "execution_count": 44,
   "id": "cfb01b38",
   "metadata": {},
   "outputs": [
    {
     "data": {
      "text/plain": [
       "[2, 3, 4, 5, 6, 7, 8, 9, 10]"
      ]
     },
     "execution_count": 44,
     "metadata": {},
     "output_type": "execute_result"
    }
   ],
   "source": [
    "list(range(2,11))"
   ]
  },
  {
   "cell_type": "code",
   "execution_count": 45,
   "id": "ef821ef3",
   "metadata": {},
   "outputs": [
    {
     "data": {
      "text/plain": [
       "[0, 2, 4, 6, 8, 10]"
      ]
     },
     "execution_count": 45,
     "metadata": {},
     "output_type": "execute_result"
    }
   ],
   "source": [
    "list(range(0,11,2))  # range o to 11 and increment by 2"
   ]
  },
  {
   "cell_type": "code",
   "execution_count": 46,
   "id": "612afeff",
   "metadata": {},
   "outputs": [
    {
     "data": {
      "text/plain": [
       "[9, 7, 5, 3, 1]"
      ]
     },
     "execution_count": 46,
     "metadata": {},
     "output_type": "execute_result"
    }
   ],
   "source": [
    "list(range(9,0,-2))"
   ]
  },
  {
   "cell_type": "code",
   "execution_count": 48,
   "id": "8b5ba751",
   "metadata": {},
   "outputs": [
    {
     "data": {
      "text/plain": [
       "[0, 4, 8, 12, 16, 20, 24, 28, 32]"
      ]
     },
     "execution_count": 48,
     "metadata": {},
     "output_type": "execute_result"
    }
   ],
   "source": [
    "list(range(0,34,4))"
   ]
  },
  {
   "cell_type": "markdown",
   "id": "842b4cfe",
   "metadata": {},
   "source": [
    "## For loop"
   ]
  },
  {
   "cell_type": "markdown",
   "id": "fa42f14b",
   "metadata": {},
   "source": [
    "It allows us to loop/iterate over a range\n",
    "\n",
    "Print the squares of odd numbers from 1 to 10"
   ]
  },
  {
   "cell_type": "code",
   "execution_count": 49,
   "id": "ebc36ea8",
   "metadata": {},
   "outputs": [
    {
     "name": "stdout",
     "output_type": "stream",
     "text": [
      "1 9 25 49 81 "
     ]
    }
   ],
   "source": [
    "for i in range(1,10,2):\n",
    "    print(i**2, end=' ')"
   ]
  },
  {
   "cell_type": "code",
   "execution_count": 51,
   "id": "62d38916",
   "metadata": {},
   "outputs": [
    {
     "data": {
      "text/plain": [
       "[1, 3, 5, 7, 9]"
      ]
     },
     "execution_count": 51,
     "metadata": {},
     "output_type": "execute_result"
    }
   ],
   "source": [
    "list(range(1,10,2))"
   ]
  },
  {
   "cell_type": "markdown",
   "id": "d02628e9",
   "metadata": {},
   "source": [
    "Print the cubes of all numbers from 9 to 1."
   ]
  },
  {
   "cell_type": "code",
   "execution_count": 59,
   "id": "575417dd",
   "metadata": {},
   "outputs": [
    {
     "name": "stdout",
     "output_type": "stream",
     "text": [
      "729 512 343 216 125 64 27 8 1 "
     ]
    }
   ],
   "source": [
    "for i in range(9,0,-1):\n",
    "    print(i**3, end=' ')"
   ]
  },
  {
   "cell_type": "code",
   "execution_count": 58,
   "id": "2b1d9151",
   "metadata": {},
   "outputs": [
    {
     "data": {
      "text/plain": [
       "[9, 8, 7, 6, 5, 4, 3, 2, 1]"
      ]
     },
     "execution_count": 58,
     "metadata": {},
     "output_type": "execute_result"
    }
   ],
   "source": [
    "list(range(9,0,-1))"
   ]
  },
  {
   "cell_type": "markdown",
   "id": "9386f10b",
   "metadata": {},
   "source": [
    "Print the cubes of all odd numbers from 9 to 1. (Reverse) [9,7,5,3,1] ->"
   ]
  },
  {
   "cell_type": "code",
   "execution_count": 60,
   "id": "f8c921c7",
   "metadata": {},
   "outputs": [
    {
     "name": "stdout",
     "output_type": "stream",
     "text": [
      "729 343 125 27 1 "
     ]
    }
   ],
   "source": [
    "for i in range(9,0,-2):\n",
    "    print(i**3, end=' ')"
   ]
  },
  {
   "cell_type": "code",
   "execution_count": 65,
   "id": "e8a71f6f",
   "metadata": {},
   "outputs": [
    {
     "name": "stdout",
     "output_type": "stream",
     "text": [
      "H\n",
      "e\n",
      "l\n",
      "l\n",
      "o\n",
      " \n",
      "W\n",
      "o\n",
      "r\n",
      "l\n",
      "d\n"
     ]
    }
   ],
   "source": [
    "for c in \"Hello World\":\n",
    "    print(c)"
   ]
  },
  {
   "cell_type": "code",
   "execution_count": 71,
   "id": "32ad6657",
   "metadata": {},
   "outputs": [
    {
     "name": "stdout",
     "output_type": "stream",
     "text": [
      "1  4  9  16  25  36  49  64  81  100  "
     ]
    }
   ],
   "source": [
    "for i in range(1,11,1):\n",
    "    print(i**2,end='  ')"
   ]
  },
  {
   "cell_type": "markdown",
   "id": "a36d9a99",
   "metadata": {},
   "source": [
    " Finding sum of digits using While Loops"
   ]
  },
  {
   "cell_type": "code",
   "execution_count": 1,
   "id": "5135359d",
   "metadata": {},
   "outputs": [
    {
     "name": "stdout",
     "output_type": "stream",
     "text": [
      "1234\n"
     ]
    }
   ],
   "source": [
    "n=int(input())"
   ]
  },
  {
   "cell_type": "code",
   "execution_count": 2,
   "id": "7aff5fc8",
   "metadata": {},
   "outputs": [
    {
     "name": "stdout",
     "output_type": "stream",
     "text": [
      "10\n"
     ]
    }
   ],
   "source": [
    "sum=0\n",
    "\n",
    "while(n>0):\n",
    "    i=n%10\n",
    "    sum=sum+i\n",
    "    n=n//10\n",
    "print(sum)"
   ]
  },
  {
   "cell_type": "code",
   "execution_count": 3,
   "id": "9807f76e",
   "metadata": {},
   "outputs": [
    {
     "data": {
      "text/plain": [
       "10"
      ]
     },
     "execution_count": 3,
     "metadata": {},
     "output_type": "execute_result"
    }
   ],
   "source": [
    "sum"
   ]
  },
  {
   "cell_type": "code",
   "execution_count": 7,
   "id": "0aff7823",
   "metadata": {},
   "outputs": [
    {
     "data": {
      "text/plain": [
       "'\\n1 2 3 4\\n1 2 3\\n1 2\\n1 \\n\\n'"
      ]
     },
     "execution_count": 7,
     "metadata": {},
     "output_type": "execute_result"
    }
   ],
   "source": [
    "'''\n",
    "1 2 3 4\n",
    "1 2 3\n",
    "1 2\n",
    "1 \n",
    "\n",
    "'''"
   ]
  },
  {
   "cell_type": "code",
   "execution_count": 5,
   "id": "804bfe45",
   "metadata": {},
   "outputs": [
    {
     "name": "stdout",
     "output_type": "stream",
     "text": [
      "1234\n"
     ]
    }
   ],
   "source": [
    "n=int(input())"
   ]
  },
  {
   "cell_type": "code",
   "execution_count": 6,
   "id": "94c0cdcd",
   "metadata": {},
   "outputs": [
    {
     "name": "stdout",
     "output_type": "stream",
     "text": [
      "1234\n",
      "123\n",
      "12\n",
      "1\n"
     ]
    }
   ],
   "source": [
    "while(n>0):\n",
    "    print(n)\n",
    "    n=n//10"
   ]
  },
  {
   "cell_type": "code",
   "execution_count": 8,
   "id": "16b51413",
   "metadata": {},
   "outputs": [
    {
     "name": "stdout",
     "output_type": "stream",
     "text": [
      "0\n",
      "1\n",
      "4\n",
      "9\n",
      "16\n"
     ]
    }
   ],
   "source": [
    "for i in range(0,5,1):\n",
    "    print(i**2)"
   ]
  },
  {
   "cell_type": "markdown",
   "id": "726893d7",
   "metadata": {},
   "source": [
    "# Python Fundamentals 3\n",
    "\n",
    "## Continue , break"
   ]
  },
  {
   "cell_type": "code",
   "execution_count": 9,
   "id": "98509f7a",
   "metadata": {},
   "outputs": [
    {
     "name": "stdout",
     "output_type": "stream",
     "text": [
      "0\n",
      "1\n",
      "2\n",
      "3\n",
      "4\n",
      "5\n"
     ]
    }
   ],
   "source": [
    "# break statement\n",
    "\n",
    "i=0\n",
    "while i<=5:\n",
    "    print(i)\n",
    "    i=i+1"
   ]
  },
  {
   "cell_type": "code",
   "execution_count": 10,
   "id": "d7209bc9",
   "metadata": {},
   "outputs": [
    {
     "name": "stdout",
     "output_type": "stream",
     "text": [
      "0\n",
      "1\n",
      "2\n"
     ]
    }
   ],
   "source": [
    "i=0\n",
    "while i<=5:\n",
    "    print(i)\n",
    "    i=i+1\n",
    "    \n",
    "    if i==3:\n",
    "        break"
   ]
  },
  {
   "cell_type": "code",
   "execution_count": 11,
   "id": "10e5158d",
   "metadata": {},
   "outputs": [
    {
     "name": "stdout",
     "output_type": "stream",
     "text": [
      "0\n",
      "1\n",
      "2\n",
      "3\n",
      "4\n",
      "5\n",
      "6\n",
      "7\n",
      "8\n",
      "9\n"
     ]
    }
   ],
   "source": [
    "for i in range(10):\n",
    "    print(i)\n"
   ]
  },
  {
   "cell_type": "code",
   "execution_count": 12,
   "id": "77221e7e",
   "metadata": {},
   "outputs": [
    {
     "name": "stdout",
     "output_type": "stream",
     "text": [
      "0\n",
      "1\n",
      "2\n",
      "3\n",
      "4\n"
     ]
    }
   ],
   "source": [
    "for i in range(10):\n",
    "    print(i)\n",
    "    \n",
    "    if i == 4:\n",
    "        break"
   ]
  },
  {
   "cell_type": "code",
   "execution_count": 13,
   "id": "f0aa0bfb",
   "metadata": {},
   "outputs": [
    {
     "name": "stdout",
     "output_type": "stream",
     "text": [
      "2 4 8 10 14 16 20 22 26 28 32 34 38 40 44 46 50 52 56 58 62 64 68 70 74 76 80 82 86 88 92 94 98 "
     ]
    }
   ],
   "source": [
    "# continue statement skips an iteration\n",
    "\n",
    "\n",
    "# i want to skip all multiples of 3\n",
    "for i in range(2,100,2):\n",
    "    if i%3 != 0:\n",
    "        print(i, end=' ')  #if u see the output 12,18,24...r skipped"
   ]
  },
  {
   "cell_type": "code",
   "execution_count": null,
   "id": "b23e7bde",
   "metadata": {},
   "outputs": [],
   "source": [
    "for i in range(2,100,2):\n",
    "    if i%3 == 0:\n",
    "        continue\n",
    "        \n",
    "    print(i, end=' ')"
   ]
  },
  {
   "cell_type": "code",
   "execution_count": 17,
   "id": "e5975cab",
   "metadata": {},
   "outputs": [
    {
     "name": "stdout",
     "output_type": "stream",
     "text": [
      "yes\n"
     ]
    }
   ],
   "source": [
    "a = 5\n",
    "#  check whether a is equal to 5\n",
    "if a == 5:\n",
    "    print('yes')"
   ]
  },
  {
   "cell_type": "code",
   "execution_count": 21,
   "id": "b545e25f",
   "metadata": {},
   "outputs": [
    {
     "name": "stdout",
     "output_type": "stream",
     "text": [
      "yes\n"
     ]
    }
   ],
   "source": [
    "# check whether a is not equal to 5\n",
    "a=7\n",
    "if a != 5:\n",
    "    print('yes')"
   ]
  },
  {
   "cell_type": "markdown",
   "id": "439242b4",
   "metadata": {},
   "source": [
    "# Random Game"
   ]
  },
  {
   "cell_type": "code",
   "execution_count": 15,
   "id": "fbbab622",
   "metadata": {},
   "outputs": [
    {
     "name": "stdout",
     "output_type": "stream",
     "text": [
      "2\n",
      "10\n",
      "2\n",
      "10\n",
      "1\n",
      "9\n",
      "1\n",
      "9\n",
      "4\n",
      "6\n",
      "1\n",
      "8\n",
      "2\n",
      "10\n",
      "1\n",
      "9\n",
      "6\n",
      "5\n"
     ]
    }
   ],
   "source": [
    "import random\n",
    "\n",
    "while True:\n",
    "#     infinite loop\n",
    "    \n",
    "    r = random.randint(1,10)\n",
    "#     it will generate a random number between 1 and 10\n",
    "    print(r)\n",
    "#     r will be a random number between 1-10\n",
    "    \n",
    "    if r==5: # r will keep giving random numbers till its gives 5 \n",
    "        break  #once 5 pop up it will stop coz we are using break"
   ]
  },
  {
   "cell_type": "code",
   "execution_count": 16,
   "id": "3d216471",
   "metadata": {},
   "outputs": [
    {
     "name": "stdout",
     "output_type": "stream",
     "text": [
      "2\n",
      "5\n",
      "2\n",
      "2\n",
      "3\n"
     ]
    }
   ],
   "source": [
    "while True:\n",
    "    r=random.randint(1,5)\n",
    "    print(r)\n",
    "    \n",
    "    if r==3:\n",
    "        break\n",
    "        "
   ]
  },
  {
   "cell_type": "markdown",
   "id": "0a57bf99",
   "metadata": {},
   "source": [
    "## Check Prime "
   ]
  },
  {
   "cell_type": "code",
   "execution_count": 23,
   "id": "c7a32c69",
   "metadata": {},
   "outputs": [
    {
     "name": "stdout",
     "output_type": "stream",
     "text": [
      "4\n",
      "Not prime\n"
     ]
    }
   ],
   "source": [
    "n = int(input())\n",
    "\n",
    "isPrime = True\n",
    "# assume that the number is prime\n",
    "\n",
    "for i in range(2,n):\n",
    "#     check whether i is a divisor of n\n",
    "    if n % i == 0:\n",
    "#         not prime\n",
    "        isPrime = False\n",
    "        break\n",
    "        \n",
    "\n",
    "if isPrime and n!=1:\n",
    "    print(\"Prime number\")\n",
    "else:\n",
    "    print(\"Not prime\")"
   ]
  },
  {
   "cell_type": "code",
   "execution_count": 30,
   "id": "409a49a2",
   "metadata": {},
   "outputs": [
    {
     "name": "stdout",
     "output_type": "stream",
     "text": [
      "76\n",
      "not prime\n"
     ]
    }
   ],
   "source": [
    "n=int(input())\n",
    "for i in range(2,n):\n",
    "    if n%i==0:\n",
    "        print(\"not prime\")\n",
    "        break\n",
    "    else:\n",
    "        print(\"prime\")\n",
    "        break\n",
    "    "
   ]
  },
  {
   "cell_type": "markdown",
   "id": "15899402",
   "metadata": {},
   "source": [
    "## Swap two numbers"
   ]
  },
  {
   "cell_type": "code",
   "execution_count": 31,
   "id": "fa0f59d4",
   "metadata": {},
   "outputs": [
    {
     "name": "stdout",
     "output_type": "stream",
     "text": [
      "89\n",
      "90\n"
     ]
    }
   ],
   "source": [
    "a = int(input())\n",
    "b = int(input())"
   ]
  },
  {
   "cell_type": "code",
   "execution_count": 32,
   "id": "87364f0f",
   "metadata": {},
   "outputs": [],
   "source": [
    "a,b=b,a"
   ]
  },
  {
   "cell_type": "code",
   "execution_count": 33,
   "id": "0f8978ce",
   "metadata": {},
   "outputs": [
    {
     "data": {
      "text/plain": [
       "(90, 89)"
      ]
     },
     "execution_count": 33,
     "metadata": {},
     "output_type": "execute_result"
    }
   ],
   "source": [
    "a,b"
   ]
  },
  {
   "cell_type": "code",
   "execution_count": 34,
   "id": "a90250b1",
   "metadata": {},
   "outputs": [
    {
     "name": "stdout",
     "output_type": "stream",
     "text": [
      "90 89\n"
     ]
    }
   ],
   "source": [
    "print(a , b)"
   ]
  },
  {
   "cell_type": "code",
   "execution_count": 35,
   "id": "e29b6903",
   "metadata": {},
   "outputs": [
    {
     "data": {
      "text/plain": [
       "2265414634512"
      ]
     },
     "execution_count": 35,
     "metadata": {},
     "output_type": "execute_result"
    }
   ],
   "source": [
    "id(a)  #memory address the memory block added to the object file"
   ]
  },
  {
   "cell_type": "markdown",
   "id": "01ad956d",
   "metadata": {},
   "source": [
    "## Python Lists"
   ]
  },
  {
   "cell_type": "code",
   "execution_count": 36,
   "id": "dfb0cadc",
   "metadata": {},
   "outputs": [
    {
     "data": {
      "text/plain": [
       "[7, 3, 5, 8, 9]"
      ]
     },
     "execution_count": 36,
     "metadata": {},
     "output_type": "execute_result"
    }
   ],
   "source": [
    "a = [7,3,5,8,9]\n",
    "a"
   ]
  },
  {
   "cell_type": "code",
   "execution_count": 37,
   "id": "d3732245",
   "metadata": {},
   "outputs": [
    {
     "name": "stdout",
     "output_type": "stream",
     "text": [
      "<class 'list'>\n"
     ]
    }
   ],
   "source": [
    "print(type(a))"
   ]
  },
  {
   "cell_type": "code",
   "execution_count": 38,
   "id": "464c486a",
   "metadata": {},
   "outputs": [
    {
     "data": {
      "text/plain": [
       "['hello', 'world', 'python', 'java']"
      ]
     },
     "execution_count": 38,
     "metadata": {},
     "output_type": "execute_result"
    }
   ],
   "source": [
    "s = ['hello', 'world', 'python', 'java']\n",
    "s"
   ]
  },
  {
   "cell_type": "code",
   "execution_count": 39,
   "id": "5ae2bdc2",
   "metadata": {},
   "outputs": [
    {
     "data": {
      "text/plain": [
       "[5, 'hello', 8, 9, 2.378945893, 'python', True, [2, 3]]"
      ]
     },
     "execution_count": 39,
     "metadata": {},
     "output_type": "execute_result"
    }
   ],
   "source": [
    "b = [5, 'hello', 8, 9, 2.378945893, 'python', True, [2,3]]\n",
    "b"
   ]
  },
  {
   "cell_type": "markdown",
   "id": "e601cb67",
   "metadata": {},
   "source": [
    "List is heterogeneous. Array must be homogeneous"
   ]
  },
  {
   "cell_type": "code",
   "execution_count": 41,
   "id": "61295d4a",
   "metadata": {},
   "outputs": [],
   "source": [
    "a=[5,45,5,6,245]"
   ]
  },
  {
   "cell_type": "code",
   "execution_count": 42,
   "id": "e220fc06",
   "metadata": {},
   "outputs": [
    {
     "data": {
      "text/plain": [
       "5"
      ]
     },
     "execution_count": 42,
     "metadata": {},
     "output_type": "execute_result"
    }
   ],
   "source": [
    "len(a)"
   ]
  },
  {
   "cell_type": "code",
   "execution_count": 43,
   "id": "1f419624",
   "metadata": {},
   "outputs": [],
   "source": [
    "fruits=['Apple','banana','guava']\n"
   ]
  },
  {
   "cell_type": "code",
   "execution_count": 45,
   "id": "1a6d2d9a",
   "metadata": {},
   "outputs": [
    {
     "data": {
      "text/plain": [
       "'guava'"
      ]
     },
     "execution_count": 45,
     "metadata": {},
     "output_type": "execute_result"
    }
   ],
   "source": [
    "fruits[2]"
   ]
  },
  {
   "cell_type": "code",
   "execution_count": 46,
   "id": "e09f2ef3",
   "metadata": {},
   "outputs": [
    {
     "data": {
      "text/plain": [
       "'guava'"
      ]
     },
     "execution_count": 46,
     "metadata": {},
     "output_type": "execute_result"
    }
   ],
   "source": [
    "fruits[-1]"
   ]
  },
  {
   "cell_type": "code",
   "execution_count": 47,
   "id": "ee6e1dfe",
   "metadata": {},
   "outputs": [],
   "source": [
    "fruits[2]='grapes'  # this is replaced"
   ]
  },
  {
   "cell_type": "code",
   "execution_count": 48,
   "id": "a6b9c42f",
   "metadata": {},
   "outputs": [
    {
     "data": {
      "text/plain": [
       "['Apple', 'banana', 'grapes']"
      ]
     },
     "execution_count": 48,
     "metadata": {},
     "output_type": "execute_result"
    }
   ],
   "source": [
    "fruits"
   ]
  },
  {
   "cell_type": "markdown",
   "id": "760ad05c",
   "metadata": {},
   "source": [
    "List is mutable\n",
    "Means anything that you can change"
   ]
  },
  {
   "cell_type": "code",
   "execution_count": 49,
   "id": "e885e434",
   "metadata": {},
   "outputs": [
    {
     "data": {
      "text/plain": [
       "['Apple', 'banana', 'grapes', 'papaya']"
      ]
     },
     "execution_count": 49,
     "metadata": {},
     "output_type": "execute_result"
    }
   ],
   "source": [
    "fruits.append('papaya')\n",
    "fruits"
   ]
  },
  {
   "cell_type": "markdown",
   "id": "672a7f28",
   "metadata": {},
   "source": [
    "Let s say you want to swap the data of list"
   ]
  },
  {
   "cell_type": "code",
   "execution_count": 50,
   "id": "cb679217",
   "metadata": {},
   "outputs": [],
   "source": [
    "fruits[0] , fruits[1] = fruits[1] , fruits[0]"
   ]
  },
  {
   "cell_type": "code",
   "execution_count": 51,
   "id": "dd88ceb8",
   "metadata": {},
   "outputs": [
    {
     "data": {
      "text/plain": [
       "['banana', 'Apple', 'grapes', 'papaya']"
      ]
     },
     "execution_count": 51,
     "metadata": {},
     "output_type": "execute_result"
    }
   ],
   "source": [
    "fruits"
   ]
  },
  {
   "cell_type": "code",
   "execution_count": 54,
   "id": "96364d5e",
   "metadata": {},
   "outputs": [],
   "source": [
    "fruits[0]='guava'"
   ]
  },
  {
   "cell_type": "code",
   "execution_count": 55,
   "id": "accbdb07",
   "metadata": {},
   "outputs": [
    {
     "data": {
      "text/plain": [
       "['guava', 'Apple', 'grapes', 'guava']"
      ]
     },
     "execution_count": 55,
     "metadata": {},
     "output_type": "execute_result"
    }
   ],
   "source": [
    "fruits  #you can have two same values of list in one "
   ]
  },
  {
   "cell_type": "code",
   "execution_count": 69,
   "id": "0f27c3f3",
   "metadata": {},
   "outputs": [
    {
     "data": {
      "text/plain": [
       "['guava',\n",
       " 'Apple',\n",
       " 'grapes',\n",
       " 'apple',\n",
       " 'apple',\n",
       " 'guava',\n",
       " 'grapesguava',\n",
       " 'grapesguava',\n",
       " 'grapesguava',\n",
       " 'grapesguava',\n",
       " 'grapesguava',\n",
       " 'grapesapple']"
      ]
     },
     "execution_count": 69,
     "metadata": {},
     "output_type": "execute_result"
    }
   ],
   "source": [
    "fruits.append(fruits[2] + fruits[3])\n",
    "fruits"
   ]
  },
  {
   "cell_type": "code",
   "execution_count": 62,
   "id": "21f88b61",
   "metadata": {},
   "outputs": [],
   "source": [
    "fruits.append(fruits[2] + fruits[3])"
   ]
  },
  {
   "cell_type": "code",
   "execution_count": 63,
   "id": "7c34460e",
   "metadata": {},
   "outputs": [
    {
     "data": {
      "text/plain": [
       "['guava',\n",
       " 'Apple',\n",
       " 'grapes',\n",
       " 'guava',\n",
       " 'grapesguava',\n",
       " 'grapesguava',\n",
       " 'grapesguava',\n",
       " 'grapesguava',\n",
       " 'grapesguava',\n",
       " 'grapesguava']"
      ]
     },
     "execution_count": 63,
     "metadata": {},
     "output_type": "execute_result"
    }
   ],
   "source": [
    "fruits"
   ]
  },
  {
   "cell_type": "code",
   "execution_count": 67,
   "id": "6a06181e",
   "metadata": {},
   "outputs": [],
   "source": [
    "fruits.insert(3,'apple')"
   ]
  },
  {
   "cell_type": "code",
   "execution_count": 65,
   "id": "f98a98ce",
   "metadata": {},
   "outputs": [
    {
     "data": {
      "text/plain": [
       "['guava',\n",
       " 'Apple',\n",
       " 'grapes',\n",
       " 'apple',\n",
       " 'guava',\n",
       " 'grapesguava',\n",
       " 'grapesguava',\n",
       " 'grapesguava',\n",
       " 'grapesguava',\n",
       " 'grapesguava',\n",
       " 'grapesguava']"
      ]
     },
     "execution_count": 65,
     "metadata": {},
     "output_type": "execute_result"
    }
   ],
   "source": [
    "fruits"
   ]
  },
  {
   "cell_type": "markdown",
   "id": "97f656bd",
   "metadata": {},
   "source": [
    "Append function allows us to add one entry from the end\n",
    "Pop function allow us to remove one entry from the end"
   ]
  },
  {
   "cell_type": "code",
   "execution_count": 68,
   "id": "4415998f",
   "metadata": {},
   "outputs": [
    {
     "data": {
      "text/plain": [
       "'grapesguava'"
      ]
     },
     "execution_count": 68,
     "metadata": {},
     "output_type": "execute_result"
    }
   ],
   "source": [
    "fruits.pop()"
   ]
  },
  {
   "cell_type": "code",
   "execution_count": 70,
   "id": "4eb04bda",
   "metadata": {},
   "outputs": [],
   "source": [
    "a=[]\n",
    "a=list()"
   ]
  },
  {
   "cell_type": "code",
   "execution_count": 72,
   "id": "a909fe9d",
   "metadata": {},
   "outputs": [
    {
     "data": {
      "text/plain": [
       "range(2, 10)"
      ]
     },
     "execution_count": 72,
     "metadata": {},
     "output_type": "execute_result"
    }
   ],
   "source": [
    "range(2,10) #converts the range to list by using list contructer"
   ]
  },
  {
   "cell_type": "code",
   "execution_count": 73,
   "id": "1fe2e1c3",
   "metadata": {},
   "outputs": [
    {
     "data": {
      "text/plain": [
       "[2, 3, 4, 5, 6, 7, 8, 9]"
      ]
     },
     "execution_count": 73,
     "metadata": {},
     "output_type": "execute_result"
    }
   ],
   "source": [
    "list(range(2,10)) #user list contructor put range value inside list"
   ]
  },
  {
   "cell_type": "code",
   "execution_count": 74,
   "id": "14f09b55",
   "metadata": {},
   "outputs": [],
   "source": [
    "# this is kind of typecasting"
   ]
  },
  {
   "cell_type": "markdown",
   "id": "e8de62e8",
   "metadata": {},
   "source": [
    "## Check if a number is present in list\n"
   ]
  },
  {
   "cell_type": "code",
   "execution_count": 75,
   "id": "6c9f6469",
   "metadata": {},
   "outputs": [
    {
     "name": "stdout",
     "output_type": "stream",
     "text": [
      "yes\n"
     ]
    }
   ],
   "source": [
    "a = [2,6,9,3,4,1,5]\n",
    "b = 9\n",
    "if b in a:\n",
    "    print(\"yes\")\n",
    "# O(n) time complexity"
   ]
  },
  {
   "cell_type": "code",
   "execution_count": 76,
   "id": "72204bc8",
   "metadata": {},
   "outputs": [
    {
     "data": {
      "text/plain": [
       "['__add__',\n",
       " '__class__',\n",
       " '__class_getitem__',\n",
       " '__contains__',\n",
       " '__delattr__',\n",
       " '__delitem__',\n",
       " '__dir__',\n",
       " '__doc__',\n",
       " '__eq__',\n",
       " '__format__',\n",
       " '__ge__',\n",
       " '__getattribute__',\n",
       " '__getitem__',\n",
       " '__gt__',\n",
       " '__hash__',\n",
       " '__iadd__',\n",
       " '__imul__',\n",
       " '__init__',\n",
       " '__init_subclass__',\n",
       " '__iter__',\n",
       " '__le__',\n",
       " '__len__',\n",
       " '__lt__',\n",
       " '__mul__',\n",
       " '__ne__',\n",
       " '__new__',\n",
       " '__reduce__',\n",
       " '__reduce_ex__',\n",
       " '__repr__',\n",
       " '__reversed__',\n",
       " '__rmul__',\n",
       " '__setattr__',\n",
       " '__setitem__',\n",
       " '__sizeof__',\n",
       " '__str__',\n",
       " '__subclasshook__',\n",
       " 'append',\n",
       " 'clear',\n",
       " 'copy',\n",
       " 'count',\n",
       " 'extend',\n",
       " 'index',\n",
       " 'insert',\n",
       " 'pop',\n",
       " 'remove',\n",
       " 'reverse',\n",
       " 'sort']"
      ]
     },
     "execution_count": 76,
     "metadata": {},
     "output_type": "execute_result"
    }
   ],
   "source": [
    "dir(a)"
   ]
  },
  {
   "cell_type": "markdown",
   "id": "6ed33690",
   "metadata": {},
   "source": [
    "## Linear Search"
   ]
  },
  {
   "cell_type": "code",
   "execution_count": 77,
   "id": "13984fce",
   "metadata": {},
   "outputs": [],
   "source": [
    "a = [2,6,9,3,4,1,5]\n",
    "b = 9"
   ]
  },
  {
   "cell_type": "code",
   "execution_count": 78,
   "id": "d2f87c2d",
   "metadata": {},
   "outputs": [
    {
     "name": "stdout",
     "output_type": "stream",
     "text": [
      "2\n"
     ]
    }
   ],
   "source": [
    "# inbuilt function\n",
    "# basically means location of 9 in list 'a'\n",
    "# index of b in a\n",
    "print(a.index(b))"
   ]
  },
  {
   "cell_type": "code",
   "execution_count": 79,
   "id": "2b8b2c82",
   "metadata": {},
   "outputs": [
    {
     "name": "stdout",
     "output_type": "stream",
     "text": [
      "2\n"
     ]
    }
   ],
   "source": [
    "# without the inbuilt function\n",
    "# find the index of 'b' in 'a'\n",
    "\n",
    "#a = [2,6,9,3,4,1,5]\n",
    "#b = 9\n",
    "\n",
    "for i in range(len(a)):\n",
    "    if a[i] == b:\n",
    "        print(i)\n",
    "        break"
   ]
  },
  {
   "cell_type": "markdown",
   "id": "c7c5814a",
   "metadata": {},
   "source": [
    "# Reading List Input\n",
    "\n",
    "Assume you are given a list input in one single line such as,\n",
    "10 20 30 40\n",
    "\n",
    "You are required to read the input and store it in a list.\n",
    "\n",
    "There are mainly 2 ways to go about it.\n",
    "\n",
    "Method 1:\n",
    "Using map function:\n",
    "\n",
    "a = list(map(int, input().split()))\n",
    "This method will not be discussed in today's session because the importance of map function cannot be explained or understood without discussing the topic of functions first.\n",
    "\n",
    "Method 2:\n",
    "Using simple loops.\n",
    "We will be discussing this method."
   ]
  },
  {
   "cell_type": "markdown",
   "id": "a6161101",
   "metadata": {},
   "source": [
    "# Step 1: Read the input and split it. "
   ]
  },
  {
   "cell_type": "code",
   "execution_count": 80,
   "id": "3a1d7d68",
   "metadata": {},
   "outputs": [
    {
     "name": "stdout",
     "output_type": "stream",
     "text": [
      "10 20 30 40\n"
     ]
    }
   ],
   "source": [
    "a = input()"
   ]
  },
  {
   "cell_type": "code",
   "execution_count": 81,
   "id": "c0446268",
   "metadata": {},
   "outputs": [
    {
     "data": {
      "text/plain": [
       "'10 20 30 40'"
      ]
     },
     "execution_count": 81,
     "metadata": {},
     "output_type": "execute_result"
    }
   ],
   "source": [
    "a"
   ]
  },
  {
   "cell_type": "code",
   "execution_count": 82,
   "id": "9aa86c28",
   "metadata": {},
   "outputs": [],
   "source": [
    "b = a.split()\n",
    "# returns a list of entries separated by spaces"
   ]
  },
  {
   "cell_type": "code",
   "execution_count": 83,
   "id": "a31d059d",
   "metadata": {},
   "outputs": [
    {
     "data": {
      "text/plain": [
       "['10', '20', '30', '40']"
      ]
     },
     "execution_count": 83,
     "metadata": {},
     "output_type": "execute_result"
    }
   ],
   "source": [
    "b"
   ]
  },
  {
   "cell_type": "code",
   "execution_count": 84,
   "id": "3d7ce1af",
   "metadata": {},
   "outputs": [
    {
     "data": {
      "text/plain": [
       "list"
      ]
     },
     "execution_count": 84,
     "metadata": {},
     "output_type": "execute_result"
    }
   ],
   "source": [
    "type(b)"
   ]
  },
  {
   "cell_type": "code",
   "execution_count": 85,
   "id": "2daa5a55",
   "metadata": {},
   "outputs": [
    {
     "data": {
      "text/plain": [
       "list"
      ]
     },
     "execution_count": 85,
     "metadata": {},
     "output_type": "execute_result"
    }
   ],
   "source": [
    "type(['20'])"
   ]
  },
  {
   "cell_type": "markdown",
   "id": "18024086",
   "metadata": {},
   "source": [
    "# Step 2: Iterate over the split list and use 'int' function on each entry"
   ]
  },
  {
   "cell_type": "code",
   "execution_count": 86,
   "id": "f7b4c109",
   "metadata": {},
   "outputs": [],
   "source": [
    "for i in range(len(b)):\n",
    "    b[i] = int(b[i])"
   ]
  },
  {
   "cell_type": "code",
   "execution_count": 87,
   "id": "8f33a802",
   "metadata": {},
   "outputs": [
    {
     "data": {
      "text/plain": [
       "[10, 20, 30, 40]"
      ]
     },
     "execution_count": 87,
     "metadata": {},
     "output_type": "execute_result"
    }
   ],
   "source": [
    "b"
   ]
  },
  {
   "cell_type": "code",
   "execution_count": 88,
   "id": "1c8bef33",
   "metadata": {},
   "outputs": [
    {
     "data": {
      "text/plain": [
       "list"
      ]
     },
     "execution_count": 88,
     "metadata": {},
     "output_type": "execute_result"
    }
   ],
   "source": [
    "type([20])"
   ]
  },
  {
   "cell_type": "code",
   "execution_count": 89,
   "id": "8ed1eb47",
   "metadata": {},
   "outputs": [
    {
     "data": {
      "text/plain": [
       "int"
      ]
     },
     "execution_count": 89,
     "metadata": {},
     "output_type": "execute_result"
    }
   ],
   "source": [
    "type(b[0])"
   ]
  },
  {
   "cell_type": "code",
   "execution_count": null,
   "id": "fbff7b9a",
   "metadata": {},
   "outputs": [],
   "source": []
  }
 ],
 "metadata": {
  "kernelspec": {
   "display_name": "Python 3 (ipykernel)",
   "language": "python",
   "name": "python3"
  },
  "language_info": {
   "codemirror_mode": {
    "name": "ipython",
    "version": 3
   },
   "file_extension": ".py",
   "mimetype": "text/x-python",
   "name": "python",
   "nbconvert_exporter": "python",
   "pygments_lexer": "ipython3",
   "version": "3.10.4"
  }
 },
 "nbformat": 4,
 "nbformat_minor": 5
}
